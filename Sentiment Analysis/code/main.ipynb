{
 "cells": [
  {
   "cell_type": "code",
   "execution_count": 1,
   "metadata": {},
   "outputs": [],
   "source": [
    "import pandas as pd    \n",
    "import numpy as np     \n",
    "from nltk.corpus import stopwords   \n",
    "from sklearn.model_selection import train_test_split      \n",
    "from tensorflow.keras.preprocessing.text import Tokenizer  \n",
    "from tensorflow.keras.preprocessing.sequence import pad_sequences   \n",
    "from tensorflow.keras.models import Sequential     \n",
    "from tensorflow.keras.layers import Dropout, Dense, Conv1D, Bidirectional, LSTM, Embedding \n",
    "from tensorflow.keras.callbacks import ModelCheckpoint   \n",
    "from tensorflow.keras.models import load_model   \n",
    "from sklearn.metrics import f1_score,precision_score, recall_score, confusion_matrix, roc_auc_score, roc_curve\n",
    "import re"
   ]
  },
  {
   "cell_type": "code",
   "execution_count": 2,
   "metadata": {},
   "outputs": [
    {
     "name": "stdout",
     "output_type": "stream",
     "text": [
      "                                                  review sentiment\n",
      "0      One of the other reviewers has mentioned that ...  positive\n",
      "1      A wonderful little production. <br /><br />The...  positive\n",
      "2      I thought this was a wonderful way to spend ti...  positive\n",
      "3      Basically there's a family where a little boy ...  negative\n",
      "4      Petter Mattei's \"Love in the Time of Money\" is...  positive\n",
      "...                                                  ...       ...\n",
      "49995  I thought this movie did a down right good job...  positive\n",
      "49996  Bad plot, bad dialogue, bad acting, idiotic di...  negative\n",
      "49997  I am a Catholic taught in parochial elementary...  negative\n",
      "49998  I'm going to have to disagree with the previou...  negative\n",
      "49999  No one expects the Star Trek movies to be high...  negative\n",
      "\n",
      "[50000 rows x 2 columns]\n"
     ]
    }
   ],
   "source": [
    "data = pd.read_csv('IMDB Dataset.csv')\n",
    "\n",
    "print(data)"
   ]
  },
  {
   "cell_type": "code",
   "execution_count": 3,
   "metadata": {},
   "outputs": [],
   "source": [
    "english_stops = set(stopwords.words('english'))"
   ]
  },
  {
   "cell_type": "code",
   "execution_count": 4,
   "metadata": {},
   "outputs": [
    {
     "name": "stdout",
     "output_type": "stream",
     "text": [
      "Reviews\n",
      "0        [one, reviewers, mentioned, watching, oz, epis...\n",
      "1        [a, wonderful, little, production, the, filmin...\n",
      "2        [i, thought, wonderful, way, spend, time, hot,...\n",
      "3        [basically, family, little, boy, jake, thinks,...\n",
      "4        [petter, mattei, love, time, money, visually, ...\n",
      "                               ...                        \n",
      "49995    [i, thought, movie, right, good, job, it, crea...\n",
      "49996    [bad, plot, bad, dialogue, bad, acting, idioti...\n",
      "49997    [i, catholic, taught, parochial, elementary, s...\n",
      "49998    [i, going, disagree, previous, comment, side, ...\n",
      "49999    [no, one, expects, star, trek, movies, high, a...\n",
      "Name: review, Length: 50000, dtype: object \n",
      "\n",
      "Sentiment\n",
      "0        1\n",
      "1        1\n",
      "2        1\n",
      "3        0\n",
      "4        1\n",
      "        ..\n",
      "49995    1\n",
      "49996    0\n",
      "49997    0\n",
      "49998    0\n",
      "49999    0\n",
      "Name: sentiment, Length: 50000, dtype: int64\n"
     ]
    }
   ],
   "source": [
    "def load_dataset():\n",
    "    df = pd.read_csv('IMDB Dataset.csv')\n",
    "    x_data = df['review']       \n",
    "    y_data = df['sentiment']    \n",
    "\n",
    "    x_data = x_data.replace({'<.*?>': ''}, regex = True)          \n",
    "    x_data = x_data.replace({'[^A-Za-z]': ' '}, regex = True)     \n",
    "    x_data = x_data.apply(lambda review: [w for w in review.split() if w not in english_stops]) \n",
    "    x_data = x_data.apply(lambda review: [w.lower() for w in review])   \n",
    "    \n",
    "    y_data = y_data.replace('positive', 1)\n",
    "    y_data = y_data.replace('negative', 0)\n",
    "\n",
    "    return x_data, y_data\n",
    "\n",
    "x_data, y_data = load_dataset()\n",
    "\n",
    "print('Reviews')\n",
    "print(x_data, '\\n')\n",
    "print('Sentiment')\n",
    "print(y_data)"
   ]
  },
  {
   "cell_type": "code",
   "execution_count": 5,
   "metadata": {},
   "outputs": [
    {
     "name": "stdout",
     "output_type": "stream",
     "text": [
      "Review 0 one reviewers mentioned watching oz episode hooked they right exactly happened the first thing struck oz brutality unflinching scenes violence set right word go trust show faint hearted timid this show pulls punches regards drugs sex violence its hardcore classic use word it called oz nickname given oswald maximum security state penitentary it focuses mainly emerald city experimental section prison cells glass fronts face inwards privacy high agenda em city home many aryans muslims gangstas latinos christians italians irish scuffles death stares dodgy dealings shady agreements never far away i would say main appeal show due fact goes shows dare forget pretty pictures painted mainstream audiences forget charm forget romance oz mess around the first episode i ever saw struck nasty surreal i say i ready i watched i developed taste oz got accustomed high levels graphic violence not violence injustice crooked guards sold nickel inmates kill order get away well mannered middle class inmates turned prison bitches due lack street skills prison experience watching oz may become comfortable uncomfortable viewing thats get touch darker side 1\n",
      "Review 1 a wonderful little production the filming technique unassuming old time bbc fashion gives comforting sometimes discomforting sense realism entire piece the actors extremely well chosen michael sheen got polari voices pat you truly see seamless editing guided references williams diary entries well worth watching terrificly written performed piece a masterful production one great master comedy life the realism really comes home little things fantasy guard rather use traditional dream techniques remains solid disappears it plays knowledge senses particularly scenes concerning orton halliwell sets particularly flat halliwell murals decorating every surface terribly well done 1\n",
      "Review 2 i thought wonderful way spend time hot summer weekend sitting air conditioned theater watching light hearted comedy the plot simplistic dialogue witty characters likable even well bread suspected serial killer while may disappointed realize match point risk addiction i thought proof woody allen still fully control style many us grown love this i laughed one woody comedies years dare i say decade while i never impressed scarlet johanson managed tone sexy image jumped right average spirited young woman this may crown jewel career wittier devil wears prada interesting superman great comedy go see friends 1\n",
      "Review 3 basically family little boy jake thinks zombie closet parents fighting time this movie slower soap opera suddenly jake decides become rambo kill zombie ok first going make film must decide thriller drama as drama movie watchable parents divorcing arguing like real life and jake closet totally ruins film i expected see boogeyman similar movie instead watched drama meaningless thriller spots well playing parents descent dialogs as shots jake ignore 0\n",
      "Review 4 petter mattei love time money visually stunning film watch mr mattei offers us vivid portrait human relations this movie seems telling us money power success people different situations encounter this variation arthur schnitzler play theme director transfers action present time new york different characters meet connect each one connected one way another next person one seems know previous point contact stylishly film sophisticated luxurious look we taken see people live world live habitat the thing one gets souls picture different stages loneliness one inhabits a big city exactly best place human relations find sincere fulfillment one discerns case people encounter the acting good mr mattei direction steve buscemi rosario dawson carol kane michael imperioli adrian grenier rest talented cast make characters come alive we wish mr mattei good luck await anxiously next work 1\n",
      "Review 5 probably time favorite movie story selflessness sacrifice dedication noble cause preachy boring it never gets old despite seen times last years paul lukas performance brings tears eyes bette davis one truly sympathetic roles delight the kids grandma says like dressed midgets children makes fun watch and mother slow awakening happening world roof believable startling if i dozen thumbs movie 1\n",
      "Review 6 i sure would like see resurrection dated seahunt series tech today would bring back kid excitement i grew black white tv seahunt gunsmoke hero every week you vote comeback new sea hunt we need change pace tv would work world water adventure oh way thank outlet like view many viewpoints tv many movies so ole way i believe i got i wanna say would nice read plus points sea hunt if rhymes would lines would let submit leave doubt quit if i must go lets 1\n",
      "Review 7 this show amazing fresh innovative idea first aired the first years brilliant things dropped by show really funny anymore continued decline complete waste time today it truly disgraceful far show fallen the writing painfully bad performances almost bad mildly entertaining respite guest hosts show probably still air i find hard believe creator hand selected original cast also chose band hacks followed how one recognize brilliance see fit replace mediocrity i felt i must give stars respect original cast made show huge success as show awful i believe still air 0\n",
      "Review 8 encouraged positive comments film i looking forward watching film bad mistake i seen films truly one worst awful almost every way editing pacing storyline acting soundtrack film song lame country tune played less four times the film looks cheap nasty boring extreme rarely i happy see end credits film the thing prevents giving score harvey keitel far best performance least seems making bit effort one keitel obsessives 0\n",
      "Review 9 if like original gut wrenching laughter like movie if young old love movie hell even mom liked great camp 1\n",
      "Review 10 phil alien one quirky films humour based around oddness everything rather actual punchlines at first odd pretty funny movie progressed i find jokes oddness funny anymore its low budget film thats never problem pretty interesting characters eventually i lost interest i imagine film would appeal stoner currently partaking for something similar better try brother another planet 0\n",
      "Review 11 i saw movie i came i recall scariest scene big bird eating men dangling helplessly parachutes right air the horror the horror as young kid going cheesy b films saturday afternoons i still tired formula monster type movies usually included hero beautiful woman might daughter professor happy resolution monster died end i care much romantic angle year old predictable plots i love unintentional humor but year later i saw psycho came i loved star janet leigh bumped early film i sat took notice point since screenwriters making story make scary possible well worn formula there rules 0\n",
      "Review 12 so im big fan boll work many i enjoyed movie postal maybe im one boll apparently bought rights use far cry long ago even game even finsished people enjoyed killing mercs infiltrating secret research labs located tropical island warned far cry this something mr boll schemed together along legion schmucks feeling loneley set mr boll invites three countrymen play these players go names til schweiger udo kier ralf moeller three names actually made selfs pretty big movie biz so tale goes like jack carver played til schweiger yes carver german hail bratwurst eating dudes however i find tils acting movie pretty badass people complained really staying true whole carver agenda saw carver first person perspective really know looked like kicking however storyline film beyond demented we see evil mad scientist dr krieger played udo kier making genetically mutated soldiers gms called performing top secret research island reminds spoiler vancouver reason thats right palm trees instead got nice rich lumberjack woods we even gone far i started cry mehehe i cannot go if wanna stay true bolls shenanigans go see movie disappointed delivers true boll experience meaning suck there things worth mentioning would imply boll good work areas film nice boat fighting scenes until whole cromed albino gms squad enters scene everything makes laugh the movie far cry reeks scheisse poop simpletons fa r wanna take wiff go ahead btw carver gets annoying sidekick makes wanna shoot first three minutes screen 0\n",
      "Review 13 the cast played shakespeare shakespeare lost i appreciate trying bring shakespeare masses ruin something good is the scottish play favorite shakespeare i know what i know certain rev bowdler hence bowdlerization tried something similar victorian era in words cannot improve perfection i write i write least ten lines text english composition never forte i keep going say movie saying goes cut 0\n",
      "Review 14 this fantastic movie three prisoners become famous one actors george clooney i fan roll bad another good thing movie soundtrack the man constant sorrow i recommand movie everybody greetings bart 1\n",
      "Review 15 kind drawn erotic scenes realize one amateurish unbelievable bits film i ever seen sort like high school film project what rosanna arquette thinking and stock characters bizarre supposed midwest town pretty hard get involved one no lessons learned brilliant insights stilted quite ridiculous lots skin intrigues videotaped nonsense what bisexual relationship nowhere heterosexual encounters and absurd dance everybody playing stereotyped roles give one pass like million miles bad wasted film money could spent starving children aids africa 0\n",
      "Review 16 some films simply remade this one in bad film but fails capture flavor terror film title liam neeson excellent always cast holds exception owen wilson bring right feel character luke but major fault version strayed far shirley jackson story attempts grandiose lost thrill earlier film trade snazzier special effects again i say bad film but enjoy friction terror older version much 1\n",
      "Review 17 this movie made one top awful movies horrible there continuous minute fight one monster another there chance character development busy running one sword fight another i emotional attachment except big bad machine wanted destroy scenes blatantly stolen movies lotr star wars matrix examples the ghost scene end stolen final scene old star wars yoda obee one vader the spider machine beginning exactly like frodo attacked spider return kings elijah wood victim films wait hypnotizes stings victim wraps uh hello and whole machine vs humans theme was matrix terminator there examples waste time and someone tell nazi nazi there juvenile story line rushed juvenile conclusion the movie could decide children movie adult movie much either just awful a real disappointment say least save money 0\n",
      "Review 18 i remember film first film watched cinema picture dark places nervous back dad took brother sister newbury cinema newbury berkshire england i recall tigers lots snow film also appearance grizzly adams actor dan haggery think one tigers gets shot dies if anyone knows find dvd etc please let know the cinema turned fitness club big shame nearest cinema miles away would love hear others seen film like 1\n",
      "Review 19 an awful film it must real stinkers nominated golden globe they taken story first famous female renaissance painter mangled beyond recognition my complaint taken liberties facts story good would perfectly fine but simply bizarre accounts true story artist would made far better film come dishwater dull script i suppose enough naked people factual version it hurriedly capped end summary artist life could saved couple hours favored rest film brevity 0\n"
     ]
    }
   ],
   "source": [
    "for i in range(20):\n",
    "    print(\"Review\",i,  ' '.join(x_data[i]), y_data[i])"
   ]
  },
  {
   "cell_type": "code",
   "execution_count": 6,
   "metadata": {},
   "outputs": [
    {
     "name": "stdout",
     "output_type": "stream",
     "text": [
      "Train Set\n",
      "12878    [for, bewildered, length, pace, film, like, sh...\n",
      "30021    [this, film, exceeded, expectations, i, though...\n",
      "13751    [this, film, absolute, cinematic, genius, it, ...\n",
      "5369     [i, saw, gary, busey, fred, williamson, thinki...\n",
      "17511    [john, van, druten, bell, book, candle, deligh...\n",
      "                               ...                        \n",
      "39525    [two, women, sick, controlling, husbands, taki...\n",
      "9399     [this, one, best, series, ranking, resident, e...\n",
      "36685    [this, wonderful, movie, struggle, mormons, fi...\n",
      "47190    [so, lets, say, producer, money, somehow, got,...\n",
      "1477     [i, often, feel, like, scrooge, slamming, movi...\n",
      "Name: review, Length: 40000, dtype: object \n",
      "\n",
      "45058    [nowhere, near, original, it, quite, accurate,...\n",
      "30844    [for, homicide, junkies, movie, great, every, ...\n",
      "5498     [unlike, spaghetti, westerns, one, characters,...\n",
      "38812    [this, film, basically, velvet, goldmine, writ...\n",
      "37033    [i, really, wanted, like, western, fan, genre,...\n",
      "                               ...                        \n",
      "49511    [sometimes, premise, starts, good, demands, go...\n",
      "47601    [some, good, movies, keep, front, tv, dying, s...\n",
      "5547     [i, first, watched, movie, release, greatly, a...\n",
      "2769     [after, seeing, break, leg, vancouver, release...\n",
      "46619    [i, mention, two, failures, understand, movie,...\n",
      "Name: review, Length: 10000, dtype: object \n",
      "\n",
      "Test Set\n",
      "12878    1\n",
      "30021    1\n",
      "13751    1\n",
      "5369     0\n",
      "17511    1\n",
      "        ..\n",
      "39525    1\n",
      "9399     1\n",
      "36685    1\n",
      "47190    0\n",
      "1477     0\n",
      "Name: sentiment, Length: 40000, dtype: int64 \n",
      "\n",
      "45058    0\n",
      "30844    1\n",
      "5498     0\n",
      "38812    0\n",
      "37033    0\n",
      "        ..\n",
      "49511    0\n",
      "47601    0\n",
      "5547     1\n",
      "2769     1\n",
      "46619    1\n",
      "Name: sentiment, Length: 10000, dtype: int64\n"
     ]
    }
   ],
   "source": [
    "x_train, x_test, y_train, y_test = train_test_split(x_data, y_data, test_size = 0.2)\n",
    "\n",
    "print('Train Set')\n",
    "print(x_train, '\\n')\n",
    "print(x_test, '\\n')\n",
    "print('Test Set')\n",
    "print(y_train, '\\n')\n",
    "print(y_test)"
   ]
  },
  {
   "cell_type": "code",
   "execution_count": 7,
   "metadata": {},
   "outputs": [],
   "source": [
    "def get_max_length():\n",
    "    review_length = []\n",
    "    for review in x_train:\n",
    "        review_length.append(len(review))\n",
    "\n",
    "    return int(np.ceil(np.mean(review_length)))"
   ]
  },
  {
   "cell_type": "code",
   "execution_count": 8,
   "metadata": {},
   "outputs": [
    {
     "name": "stdout",
     "output_type": "stream",
     "text": [
      "Encoded X Train\n",
      " [[  204 11367  1456 ...     0     0     0]\n",
      " [    8     4 10183 ...     0     0     0]\n",
      " [    8     4  1511 ...     0     0     0]\n",
      " ...\n",
      " [    8   297     3 ...  9598   542  9860]\n",
      " [  146  1433    58 ...   721    97   848]\n",
      " [    1   310   135 ...     0     0     0]] \n",
      "\n",
      "Encoded X Test\n",
      " [[ 1175   643   118 ...     0     0     0]\n",
      " [  204  5888 12061 ...     0     0     0]\n",
      " [  927  4734  2562 ...     0     0     0]\n",
      " ...\n",
      " [    1    23   198 ...  1398    61   247]\n",
      " [  309   220   909 ...     0     0     0]\n",
      " [    1   657    36 ...     5    19   171]] \n",
      "\n",
      "Maximum review length:  130\n"
     ]
    }
   ],
   "source": [
    "token = Tokenizer(lower=False)    \n",
    "token.fit_on_texts(x_train)\n",
    "x_train = token.texts_to_sequences(x_train)\n",
    "x_test = token.texts_to_sequences(x_test)\n",
    "\n",
    "max_length = get_max_length()\n",
    "\n",
    "x_train = pad_sequences(x_train, maxlen=max_length, padding='post', truncating='post')\n",
    "x_test = pad_sequences(x_test, maxlen=max_length, padding='post', truncating='post')\n",
    "\n",
    "total_words = len(token.word_index) + 1   # add 1 because of 0 padding\n",
    "\n",
    "print('Encoded X Train\\n', x_train, '\\n')\n",
    "print('Encoded X Test\\n', x_test, '\\n')\n",
    "print('Maximum review length: ', max_length)"
   ]
  },
  {
   "cell_type": "code",
   "execution_count": 9,
   "metadata": {},
   "outputs": [
    {
     "name": "stdout",
     "output_type": "stream",
     "text": [
      "Model: \"sequential\"\n",
      "_________________________________________________________________\n",
      " Layer (type)                Output Shape              Param #   \n",
      "=================================================================\n",
      " embedding (Embedding)       (None, 130, 32)           2956352   \n",
      "                                                                 \n",
      " lstm (LSTM)                 (None, 64)                24832     \n",
      "                                                                 \n",
      " dense (Dense)               (None, 1)                 65        \n",
      "                                                                 \n",
      "=================================================================\n",
      "Total params: 2,981,249\n",
      "Trainable params: 2,981,249\n",
      "Non-trainable params: 0\n",
      "_________________________________________________________________\n",
      "None\n"
     ]
    }
   ],
   "source": [
    "EMBED_DIM = 32\n",
    "LSTM_OUT = 64\n",
    "\n",
    "model = Sequential()\n",
    "model.add(Embedding(total_words, EMBED_DIM, input_length = max_length))\n",
    "model.add(LSTM(LSTM_OUT))\n",
    "model.add(Dense(1, activation='sigmoid'))\n",
    "model.compile(optimizer = 'adam', loss = 'binary_crossentropy', metrics = ['accuracy'])\n",
    "\n",
    "print(model.summary())"
   ]
  },
  {
   "cell_type": "code",
   "execution_count": 10,
   "metadata": {},
   "outputs": [],
   "source": [
    "checkpoint = ModelCheckpoint(\n",
    "    'models/LSTM.h5',\n",
    "    monitor='accuracy',\n",
    "    save_best_only=True,\n",
    "    verbose=1\n",
    ")"
   ]
  },
  {
   "cell_type": "code",
   "execution_count": 50,
   "metadata": {},
   "outputs": [
    {
     "name": "stdout",
     "output_type": "stream",
     "text": [
      "Epoch 1/5\n",
      "313/313 [==============================] - ETA: 0s - loss: 0.0382 - accuracy: 0.9902\n",
      "Epoch 1: accuracy did not improve from 0.99138\n",
      "313/313 [==============================] - 62s 198ms/step - loss: 0.0382 - accuracy: 0.9902\n",
      "Epoch 2/5\n",
      "313/313 [==============================] - ETA: 0s - loss: 0.0317 - accuracy: 0.9923\n",
      "Epoch 2: accuracy improved from 0.99138 to 0.99235, saving model to models\\LSTM.h5\n",
      "313/313 [==============================] - 61s 196ms/step - loss: 0.0317 - accuracy: 0.9923\n",
      "Epoch 3/5\n",
      "313/313 [==============================] - ETA: 0s - loss: 0.0532 - accuracy: 0.9876\n",
      "Epoch 3: accuracy did not improve from 0.99235\n",
      "313/313 [==============================] - 68s 216ms/step - loss: 0.0532 - accuracy: 0.9876\n",
      "Epoch 4/5\n",
      "313/313 [==============================] - ETA: 0s - loss: 0.0858 - accuracy: 0.9789\n",
      "Epoch 4: accuracy did not improve from 0.99235\n",
      "313/313 [==============================] - 55s 176ms/step - loss: 0.0858 - accuracy: 0.9789\n",
      "Epoch 5/5\n",
      "313/313 [==============================] - ETA: 0s - loss: 0.0237 - accuracy: 0.9941\n",
      "Epoch 5: accuracy improved from 0.99235 to 0.99410, saving model to models\\LSTM.h5\n",
      "313/313 [==============================] - 54s 174ms/step - loss: 0.0237 - accuracy: 0.9941\n"
     ]
    }
   ],
   "source": [
    "model_history = model.fit(x_train, y_train, batch_size = 128, epochs = 5, callbacks=[checkpoint])"
   ]
  },
  {
   "cell_type": "code",
   "execution_count": 51,
   "metadata": {},
   "outputs": [],
   "source": [
    "model.save('models/LSTM.h5')"
   ]
  },
  {
   "cell_type": "code",
   "execution_count": 52,
   "metadata": {},
   "outputs": [
    {
     "data": {
      "image/png": "[encoded data removed]",
      "text/plain": [
       "<Figure size 640x480 with 1 Axes>"
      ]
     },
     "metadata": {},
     "output_type": "display_data"
    },
    {
     "data": {
      "image/png": "[encoded data removed]",
      "text/plain": [
       "<Figure size 640x480 with 1 Axes>"
      ]
     },
     "metadata": {},
     "output_type": "display_data"
    }
   ],
   "source": [
    "import matplotlib.pyplot as plt\n",
    "\n",
    "plt.plot(model_history.history['accuracy'])\n",
    "\n",
    "plt.title('model accuracy')\n",
    "plt.ylabel('accuracy')\n",
    "plt.xlabel('epoch')\n",
    "plt.legend(['train','test'], loc='upper left')\n",
    "plt.show()\n",
    "\n",
    "plt.plot(model_history.history['loss'])\n",
    "\n",
    "plt.title('model loss')\n",
    "plt.ylabel('loss')\n",
    "plt.xlabel('epoch')\n",
    "plt.legend(['train','test'], loc='upper left')\n",
    "plt.show()"
   ]
  },
  {
   "cell_type": "code",
   "execution_count": 53,
   "metadata": {},
   "outputs": [
    {
     "name": "stdout",
     "output_type": "stream",
     "text": [
      "313/313 [==============================] - 7s 21ms/step\n",
      "Correct Prediction: 8658\n",
      "Wrong Prediction: 1342\n",
      "Accuracy: 86.58\n"
     ]
    }
   ],
   "source": [
    "y_pred = (model.predict(x_test) > 0.5).astype(\"int32\")\n",
    "\n",
    "true = 0\n",
    "for i, y in enumerate(y_test):\n",
    "    if y == y_pred[i]:\n",
    "        true += 1\n",
    "\n",
    "print('Correct Prediction: {}'.format(true))\n",
    "print('Wrong Prediction: {}'.format(len(y_pred) - true))\n",
    "print('Accuracy: {}'.format(true/len(y_pred)*100))"
   ]
  },
  {
   "cell_type": "code",
   "execution_count": 54,
   "metadata": {},
   "outputs": [
    {
     "name": "stdout",
     "output_type": "stream",
     "text": [
      "313/313 [==============================] - 6s 21ms/step - loss: 0.5947 - accuracy: 0.8658\n"
     ]
    }
   ],
   "source": [
    "score = model.evaluate(x_test, y_test, verbose=1)"
   ]
  },
  {
   "cell_type": "code",
   "execution_count": 55,
   "metadata": {},
   "outputs": [
    {
     "data": {
      "text/plain": [
       "array([[4219,  670],\n",
       "       [ 672, 4439]], dtype=int64)"
      ]
     },
     "execution_count": 55,
     "metadata": {},
     "output_type": "execute_result"
    }
   ],
   "source": [
    "confusion_matrix(y_test, y_pred)"
   ]
  },
  {
   "cell_type": "code",
   "execution_count": 17,
   "metadata": {},
   "outputs": [
    {
     "name": "stdout",
     "output_type": "stream",
     "text": [
      "F1_score: 0.8630271974773354\n",
      "Precision_score: 0.8693666865197538\n",
      "Recall_score:0.8567794952064175\n"
     ]
    }
   ],
   "source": [
    "F1_score = f1_score(y_test, y_pred)\n",
    "Precision_score = precision_score(y_test, y_pred)\n",
    "Recall_score = recall_score(y_test, y_pred)\n",
    "print('F1_score: {}\\nPrecision_score: {}\\nRecall_score:{}'.format(F1_score, Precision_score, Recall_score))"
   ]
  },
  {
   "cell_type": "code",
   "execution_count": 18,
   "metadata": {},
   "outputs": [
    {
     "data": {
      "image/png": "[encoded data removed]",
      "text/plain": [
       "<Figure size 640x480 with 1 Axes>"
      ]
     },
     "metadata": {},
     "output_type": "display_data"
    }
   ],
   "source": [
    "fpr, tpr, _ = roc_curve(y_test,  y_pred)\n",
    "auc = roc_auc_score(y_test, y_pred)\n",
    "\n",
    "#create ROC curve\n",
    "plt.plot(fpr,tpr, label=\"AUC=\"+str(auc))\n",
    "plt.ylabel('True Positive Rate')\n",
    "plt.xlabel('False Positive Rate')\n",
    "plt.legend(loc=4)\n",
    "plt.show()"
   ]
  },
  {
   "cell_type": "code",
   "execution_count": 19,
   "metadata": {},
   "outputs": [],
   "source": [
    "loaded_model = load_model('models/LSTM.h5')"
   ]
  },
  {
   "cell_type": "code",
   "execution_count": 45,
   "metadata": {},
   "outputs": [],
   "source": [
    "review = str(input('Movie Review: '))\n",
    "review_list = ['The score of the movie is stunning.', 'The first scene of the movie grabbed me at the first glance and took me to another world.', \n",
    "                \"I don't like the way how the director decided to shoot this scene on that castle.\", 'I found the girl on the movie very hot and breath-taking.', \n",
    "                'Nothing was typical about this. Everything was beautifully done in this movie, the story, the flow, the scenario, everything. I highly recommend it for mystery lovers, for anyone who wants to watch a good movie!']"
   ]
  },
  {
   "cell_type": "code",
   "execution_count": 46,
   "metadata": {},
   "outputs": [
    {
     "name": "stdout",
     "output_type": "stream",
     "text": [
      "Cleaned:  I absolutely adored this world that was created in the first film so I was beyond eager for a second movie  the sequel did not disappoint Ive heard a few negative reviews but I refuse to pay them much attention as this movie deserves its credit  Its such a beautiful important movie that holds important meanings in between the scenes and writing  the world that was created along with the creatures is nothing short of brilliant and beautiful I find myself craving to understand this world and these beings  they seem to live their lives so connected with nature and spirituality that this whole universe comes across as very appetizing to most  The comedy bits in this movie in particular were done so well and it added a surprising layer to the already magnificent watch I cant get enough of these movies and I cant wait for the rd  These are movies im comfortable with having  or  films  Maybe even a show Whatever this franchise has in store for the future im in full support and Ill be eagerly waiting \n",
      "Filtered:  ['i absolutely adored world created first film i beyond eager second movie  sequel disappoint ive heard negative reviews i refuse pay much attention movie deserves credit  its beautiful important movie holds important meanings scenes writing  world created along creatures nothing short brilliant beautiful i find craving understand world beings  seem live lives connected nature spirituality whole universe comes across appetizing  the comedy bits movie particular done well added surprising layer already magnificent watch i cant get enough movies i cant wait rd  these movies im comfortable   films  maybe even show whatever franchise store future im full support ill eagerly waiting ']\n"
     ]
    }
   ],
   "source": [
    "regex = re.compile(r'[^a-zA-Z\\s]')\n",
    "review = regex.sub('', review)\n",
    "print('Cleaned: ', review)\n",
    "\n",
    "words = review.split(' ')\n",
    "filtered = [w for w in words if w not in english_stops]\n",
    "filtered = ' '.join(filtered)\n",
    "filtered = [filtered.lower()]\n",
    "\n",
    "print('Filtered: ', filtered)"
   ]
  },
  {
   "cell_type": "code",
   "execution_count": 47,
   "metadata": {},
   "outputs": [
    {
     "name": "stdout",
     "output_type": "stream",
     "text": [
      "[[    1   319  9486    85   957    23     4     1   554  4377   245     3\n",
      "    644  4468 15897   454  1514   732     1  5376   859    17   589     3\n",
      "    900   997   727   218   562     3  1613   562  8557    60   396    85\n",
      "    957   248  1975    76   236   425   218     1    79 10268   285    85\n",
      "   3339   217   329   380  3141   814 13294   130  2239   180   524 31992\n",
      "      2   111  1568     3   791   127    16  1155  1643  9039   371  1801\n",
      "     33     1  2072    19   101    28     1  2072   764  3614   774    28\n",
      "   4609  3991    35   175    11    45   769  2910   974   619  4609   270\n",
      "   1370  1775  7325   983     0     0     0     0     0     0     0     0\n",
      "      0     0     0     0     0     0     0     0     0     0     0     0\n",
      "      0     0     0     0     0     0     0     0     0     0]]\n"
     ]
    }
   ],
   "source": [
    "tokenize_words = token.texts_to_sequences(filtered)\n",
    "tokenize_words = pad_sequences(tokenize_words, maxlen=max_length, padding='post', truncating='post')\n",
    "print(tokenize_words)"
   ]
  },
  {
   "cell_type": "code",
   "execution_count": 48,
   "metadata": {},
   "outputs": [
    {
     "name": "stdout",
     "output_type": "stream",
     "text": [
      "1/1 [==============================] - 0s 44ms/step\n",
      "[[0.7161515]]\n"
     ]
    }
   ],
   "source": [
    "result = loaded_model.predict(tokenize_words)\n",
    "print(result)"
   ]
  },
  {
   "cell_type": "code",
   "execution_count": 49,
   "metadata": {},
   "outputs": [
    {
     "name": "stdout",
     "output_type": "stream",
     "text": [
      "positive\n"
     ]
    }
   ],
   "source": [
    "if result >= 0.7:\n",
    "    print('positive')\n",
    "else:\n",
    "    print('negative')"
   ]
  }
 ],
 "metadata": {
  "kernelspec": {
   "display_name": "Python 3",
   "language": "python",
   "name": "python3"
  },
  "language_info": {
   "codemirror_mode": {
    "name": "ipython",
    "version": 3
   },
   "file_extension": ".py",
   "mimetype": "text/x-python",
   "name": "python",
   "nbconvert_exporter": "python",
   "pygments_lexer": "ipython3",
   "version": "3.10.7"
  },
  "orig_nbformat": 4
 },
 "nbformat": 4,
 "nbformat_minor": 2
}
